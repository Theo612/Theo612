{
  "nbformat": 4,
  "nbformat_minor": 0,
  "metadata": {
    "colab": {
      "provenance": [],
      "gpuType": "T4",
      "include_colab_link": true
    },
    "kernelspec": {
      "name": "python3",
      "display_name": "Python 3"
    },
    "language_info": {
      "name": "python"
    },
    "accelerator": "GPU"
  },
  "cells": [
    {
      "cell_type": "markdown",
      "metadata": {
        "id": "view-in-github",
        "colab_type": "text"
      },
      "source": [
        "<a href=\"https://colab.research.google.com/github/Theo612/Theo612/blob/main/classif'hackaton.ipynb\" target=\"_parent\"><img src=\"https://colab.research.google.com/assets/colab-badge.svg\" alt=\"Open In Colab\"/></a>"
      ]
    },
    {
      "cell_type": "markdown",
      "source": [
        "# **PARTIE Préparation données**\n",
        "\n",
        "---\n",
        "\n"
      ],
      "metadata": {
        "id": "uxWis7zfht3J"
      }
    },
    {
      "cell_type": "code",
      "source": [
        "import requests\n",
        "import pandas as pd"
      ],
      "metadata": {
        "id": "ctxT7fpv3qi7"
      },
      "execution_count": 1,
      "outputs": []
    },
    {
      "cell_type": "code",
      "source": [
        "file_path = 'ac.tab'\n",
        "data = pd.read_csv(file_path, sep='\\t', header=None)\n",
        "data.columns = ['AC', 'Localisation', 'Length']\n",
        "accession_codes = data['AC']\n",
        "print(accession_codes)"
      ],
      "metadata": {
        "colab": {
          "base_uri": "https://localhost:8080/"
        },
        "id": "h1a6Rl7B3xdc",
        "outputId": "b54a89e0-7c24-4564-da81-d97a77f49084"
      },
      "execution_count": 2,
      "outputs": [
        {
          "output_type": "stream",
          "name": "stdout",
          "text": [
            "0        P10719\n",
            "1        Q38786\n",
            "2        P15289\n",
            "3        P25705\n",
            "4        P00829\n",
            "          ...  \n",
            "13000    O60145\n",
            "13001    O74815\n",
            "13002    Q3UZD5\n",
            "13003    P35998\n",
            "13004    Q07800\n",
            "Name: AC, Length: 13005, dtype: object\n"
          ]
        }
      ]
    },
    {
      "cell_type": "code",
      "execution_count": 3,
      "metadata": {
        "id": "_l2jomuj0VlI",
        "colab": {
          "base_uri": "https://localhost:8080/"
        },
        "outputId": "f3b7b421-c0b5-41f3-c92e-c12cfa09b557"
      },
      "outputs": [
        {
          "output_type": "stream",
          "name": "stdout",
          "text": [
            "[{'Accession': 'P10719', 'Length': '529', 'Poids Moléculaire': '56354', 'Sequence': 'MLSLVGRVASASASGALRGLNPLAALPQAHLLLRTAPAGVHPARDYAAQSSAAPKAGTATGQIVAVIGAVVDVQFDEGLPPILNALEVQGRESRLVLEVAQHLGESTVRTIAMDGTEGLVRGQKVLDSGAPIKIPVGPETLGRIMNVIGEPIDERGPIKTKQFAPIHAEAPEFIEMSVEQEILVTGIKVVDLLAPYAKGGKIGLFGGAGVGKTVLIMELINNVAKAHGGYSVFAGVGERTREGNDLYHEMIESGVINLKDATSKVALVYGQMNEPPGARARVALTGLTVAEYFRDQEGQDVLLFIDNIFRFTQAGSEVSALLGRIPSAVGYQPTLATDMGTMQERITTTKKGSITSVQAIYVPADDLTDPAPATTFAHLDATTVLSRAIAELGIYPAVDPLDSTSRIMDPNIVGSEHYDVARGVQKILQDYKSLQDIIAILGMDELSEEDKLTVSRARKIQRFLSQPFQVAEVFTGHMGKLVPLKETIKGFQQILAGDYDHLPEQAFYMVGPIEEAVAKADKLAEEHGS', 'Localisation': 'MT', 'Length peptide': 46}, {'Accession': 'Q38786', 'Length': '574', 'Poids Moléculaire': '65041', 'Sequence': 'MALLCSALSNSTHPSFRSHIGANSENLWHLSADPAQKSKRRCNLTLSSRAARISSALESAKQVKPWQVPKRDWFPPEFMFGAASAAYQIEGAWNEGGKGPSSWDNFCHSHPDRIMDKSNADVAANSYYMYKEDVRMLKEIGMDSYRFSISWPRILPKGTLDGGINHEGIQYYNDLLDCLIENGIKPYITLFHWDTPQALADEYKDFLDRRIVKDYTDYATVCFEHFGDKVKNWFTFNEPHSFCGLGYGTGLHAPGARCSAGMTCVIPEEDALRNPYIVGHNLLLAHAETVDVYNKFYKGDDGQIGMVLDVMAYEPYGNNFLDQQAQERAIDFHIGWFLEPMVRGDYPFSMRSLVGDRLPFFTKSEQEKLVSSYDFVGINYYTSRFAKHIDISPEFIPKINTDDVYSNPEVNDSNGIPIGPDVGMYFIYSYPKGLKNILLRMKEKYGNPPIYITENGTADMDGWGNPPMTDPLDDPLRIEYLQQHMTAIKEAIDLGRRTLRGHFTWSLIDNFEWSLGYLSRFGIVYIDRNDGCKRIMKKSAKWLKEFNGATKKLNNKILGASSCCSGVTHGGGTA', 'Localisation': 'CH', 'Length peptide': 55}, {'Accession': 'P15289', 'Length': '507', 'Poids Moléculaire': '53588', 'Sequence': 'MGAPRSLLLALAAGLAVARPPNIVLIFADDLGYGDLGCYGHPSSTTPNLDQLAAGGLRFTDFYVPVSLCTPSRAALLTGRLPVRMGMYPGVLVPSSRGGLPLEEVTVAEVLAARGYLTGMAGKWHLGVGPEGAFLPPHQGFHRFLGIPYSHDQGPCQNLTCFPPATPCDGGCDQGLVPIPLLANLSVEAQPPWLPGLEARYMAFAHDLMADAQRQDRPFFLYYASHHTHYPQFSGQSFAERSGRGPFGDSLMELDAAVGTLMTAIGDLGLLEETLVIFTADNGPETMRMSRGGCSGLLRCGKGTTYEGGVREPALAFWPGHIAPGVTHELASSLDLLPTLAALAGAPLPNVTLDGFDLSPLLLGTGKSPRQSLFFYPSYPDEVRGVFAVRTGKYKAHFFTQGSAHSDTTADPACHASSSLTAHEPPLLYDLSKDPGENYNLLGGVAGATPEVLQALKQLQLLKAQLDAAVTFGPSQVARGEDPALQICCHPGCTPRPACCHCPDPHA', 'Localisation': 'SP', 'Length peptide': 18}, {'Accession': 'P25705', 'Length': '553', 'Poids Moléculaire': '59751', 'Sequence': 'MLSVRVAAAVVRALPRRAGLVSRNALGSSFIAARNFHASNTHLQKTGTAEMSSILEERILGADTSVDLEETGRVLSIGDGIARVHGLRNVQAEEMVEFSSGLKGMSLNLEPDNVGVVVFGNDKLIKEGDIVKRTGAIVDVPVGEELLGRVVDALGNAIDGKGPIGSKTRRRVGLKAPGIIPRISVREPMQTGIKAVDSLVPIGRGQRELIIGDRQTGKTSIAIDTIINQKRFNDGSDEKKKLYCIYVAIGQKRSTVAQLVKRLTDADAMKYTIVVSATASDAAPLQYLAPYSGCSMGEYFRDNGKHALIIYDDLSKQAVAYRQMSLLLRRPPGREAYPGDVFYLHSRLLERAAKMNDAFGGGSLTALPVIETQAGDVSAYIPTNVISITDGQIFLETELFYKGIRPAINVGLSVSRVGSAAQTRAMKQVAGTMKLELAQYREVAAFAQFGSDLDAATQQLLSRGVRLTELLKQGQYSPMAIEEQVAVIYAGVRGYLDKLEPSKITKFENAFLSHVVSQHQALLGTIRADGKISEQSDAKLKEIVTNFLAGFEA', 'Localisation': 'MT', 'Length peptide': 43}, {'Accession': 'P00829', 'Length': '528', 'Poids Moléculaire': '56284', 'Sequence': 'MLGLVGRVVAASASGALRGLSPSAPLPQAQLLLRAAPAALQPARDYAAQASPSPKAGATTGRIVAVIGAVVDVQFDEGLPPILNALEVQGRETRLVLEVAQHLGESTVRTIAMDGTEGLVRGQKVLDSGAPIRIPVGPETLGRIMNVIGEPIDERGPIKTKQFAAIHAEAPEFVEMSVEQEILVTGIKVVDLLAPYAKGGKIGLFGGAGVGKTVLIMELINNVAKAHGGYSVFAGVGERTREGNDLYHEMIESGVINLKDATSKVALVYGQMNEPPGARARVALTGLTVAEYFRDQEGQDVLLFIDNIFRFTQAGSEVSALLGRIPSAVGYQPTLATDMGTMQERITTTKKGSITSVQAIYVPADDLTDPAPATTFAHLDATTVLSRAIAELGIYPAVDPLDSTSRIMDPNIVGSEHYDVARGVQKILQDYKSLQDIIAILGMDELSEEDKLTVSRARKIQRFLSQPFQVAEVFTGHLGKLVPLKETIKGFQQILAGEYDHLPEQAFYMVGPIEEAVAKADKLAEEHS', 'Localisation': 'MT', 'Length peptide': 48}, {'Accession': 'P19633', 'Length': '406', 'Poids Moléculaire': '46449', 'Sequence': 'MRATDRMGARAVSKLRLALLFVLVLGTPRSGVQGEDGLDFPEYDGVDRVINVNAKNYKNVFKKYEVLALLYHEPPEDDKASQRQFEMEELILELAAQVLEDKGVGFGLVDSEKDAAVAKKLGLTEEDSVYVFKGDEVIEYDGEFSADTLVEFLLDVLEDPVELIEGERELQAFENIEDEIKLIGYFKSKDSEHYKAYEDAAEEFHPYIPFFATFDSKVAKKLTLKLNEIDFYEAFMEEPVTIPDKPNSEEEIVSFVEEHRRSTLRKLKPESMYETWEDDLDGIHIVAFAEEADPDGYEFLETLKAVAQDNTENPDLSIIWIDPDDFPLLVPYWEKTFDIDLSAPQIGVVNVTDADSIWMEMDDEEDLPSAEELEDWLEDVLEGEINTEDDDDDDDDDDDDDDDDDD', 'Localisation': 'SP', 'Length peptide': 34}, {'Accession': 'Q96252', 'Length': '203', 'Poids Moléculaire': '21548', 'Sequence': 'MFKQASRLLSRSVAAASSKSVTTRAFSTELPSTLDSTFVEAWKKVAPNMDPPQTPSAFMKPRPSTPSSIPTKLTVNFVLPYTSELTGKEVDMVIIPASTGQMGVLPGHVPTIAELKPGIMSVHEGTDVKKYFLSSGFAFLHANSVADIIAVEAVPLDHIDPSQVQKGLAEFQQKLASATTDLEKAEAQIGVEVHSAINAALSG', 'Localisation': 'MT', 'Length peptide': 26}, {'Accession': 'Q12165', 'Length': '160', 'Poids Moléculaire': '17020', 'Sequence': 'MLRSIIGKSASRSLNFVAKRSYAEAAAASSGLKLQFALPHETLYSGSEVTQVNLPAKSGRIGVLANHVPTVEQLLPGVVEVMEGSNSKKFFISGGFATVQPDSQLCVTAIEAFPLESFSQENIKNLLAEAKKNVSSSDAREAAEAAIQVEVLENLQSVLK', 'Localisation': 'MT', 'Length peptide': 22}, {'Accession': 'Q40089', 'Length': '200', 'Poids Moléculaire': '21318', 'Sequence': 'MFRHSSRLLARATTMGWRRPFSTDLPAETAADSTFVEAWKKLIPNVDPPKTPSAYMAPRPATPSSIPSKLTVNFVLPYSSELAGKEVDMVIIPATTGQMGVLPGHVATIAELKPGVMSVHEGNDVSKYFVSGGFAFIHANSFADIIAVEAVPLDRIDANLVQKGLAEFTQKLNTASTDVEKAEAQIGVDVHSALNAALTG', 'Localisation': 'MT', 'Length peptide': 21}, {'Accession': 'Q03352', 'Length': '105', 'Poids Moléculaire': '11281', 'Sequence': 'MHLFIGVSLRPLGHGIPAPYAVEDICTAKPRDIPVNPICIYRNPEKKPQERRGAGAGEGQDPGVHKPPASGSCPGPTRAFGRRSFLQAPGPTPRTMRRTSSCRPS', 'Localisation': 'SP', 'Length peptide': 17}]\n"
          ]
        }
      ],
      "source": [
        "def fetch_protein_data(ac,localisation,longueur):\n",
        "    url = f\"https://www.uniprot.org/uniprot/{ac}.txt\"\n",
        "    response = requests.get(url)\n",
        "\n",
        "    if response.status_code == 200:\n",
        "        data = response.text.splitlines()\n",
        "        protein_data = {}\n",
        "        protein_data['Accession'] = ac  # Stocker l'Accession Code directement\n",
        "        sequence_lines=[]\n",
        "        sequence_flag = False  # Flag pour commencer à lire la séquence si besoin\n",
        "\n",
        "        for line in data:\n",
        "            # Rechercher la section de séquence pour récupérer la longueur et le poids moléculaire\n",
        "            if line.startswith('SQ'):\n",
        "                sequence_flag = True  # Commencer à lire la séquence\n",
        "                # SQ line contains useful information about length and weight\n",
        "                parts = line.split()\n",
        "                protein_data['Length'] = parts[2]  # Longueur est souvent à la position 2\n",
        "                protein_data['Poids Moléculaire'] = parts[4]\n",
        "            if sequence_flag:\n",
        "                if line.startswith(' '):  # Si la ligne commence par un espace, c'est une ligne de séquence\n",
        "                    sequence_lines.append(line.strip().replace(' ', ''))  # Ajouter la ligne de séquence\n",
        "                elif line.startswith('//'):  # Fin de la séquence\n",
        "                    break  # Arrêter la boucle si on atteint la fin de la séquence\n",
        "\n",
        "        # Combiner toutes les lignes de séquence en une seule chaîne\n",
        "        protein_data['Sequence'] = ''.join(sequence_lines)\n",
        "        protein_data['Localisation'] = localisation\n",
        "        protein_data['Length peptide']=longueur\n",
        "\n",
        "        # Retourner les informations collectées\n",
        "        return protein_data\n",
        "\n",
        "    else:\n",
        "        print(f\"Erreur pour {ac}: {response.status_code}\")\n",
        "        return None\n",
        "# Liste d'AC à traiter\n",
        "ac_list = data['AC']\n",
        "localisation_list = data['Localisation']\n",
        "targeting_peptide_list=data['Length']\n",
        "ac_list_limited = ac_list[:10]\n",
        "localisation_list_limited=localisation_list[:10]\n",
        "targeting_peptide_list_limited=targeting_peptide_list[:10]\n",
        "# Liste pour stocker les données récupérées\n",
        "protein_data_list = []\n",
        "\n",
        "# Récupérer les données pour chaque AC\n",
        "for ac,localisation,longueur in zip(ac_list_limited, localisation_list_limited,targeting_peptide_list_limited):\n",
        "    protein_data = fetch_protein_data(ac,localisation,longueur)\n",
        "    if protein_data:\n",
        "        protein_data_list.append(protein_data)\n",
        "print(protein_data_list)\n"
      ]
    },
    {
      "cell_type": "code",
      "source": [
        "# Indices d'hydropathie des acides aminés\n",
        "hydropathy_index = {\n",
        "    'A': 1.8,  # Alanine\n",
        "    'R': -4.5,  # Arginine\n",
        "    'N': -3.5,  # Asparagine\n",
        "    'D': -3.5,  # Acide Aspartique\n",
        "    'C': 2.5,  # Cystéine\n",
        "    'E': -3.5,  # Acide Glutamique\n",
        "    'Q': -3.5,  # Glutamine\n",
        "    'G': -0.4,  # Glycine\n",
        "    'H': -3.2,  # Histidine\n",
        "    'I': 4.5,  # Isoleucine\n",
        "    'L': 3.8,  # Leucine\n",
        "    'K': -3.9,  # Lysine\n",
        "    'M': 1.9,  # Méthionine\n",
        "    'F': 2.8,  # Phénylalanine\n",
        "    'P': -1.6,  # Proline\n",
        "    'S': -0.8,  # Sérine\n",
        "    'T': -0.7,  # Thréonine\n",
        "    'W': -0.9,  # Tryptophane\n",
        "    'Y': -1.3,  # Tyrosine\n",
        "    'V': 4.2,  # Valine\n",
        "}\n",
        "\n",
        "def calculat_hydropathy(sequence):\n",
        "    total_hydropathy=0 ; nb=0\n",
        "    for amino_acid in sequence :\n",
        "      value = hydropathy_index.get(amino_acid, 0)\n",
        "      total_hydropathy += value\n",
        "      nb+=1\n",
        "    return total_hydropathy / nb\n",
        "\n",
        "#on rajoute à nos seq\n",
        "for i in protein_data_list:\n",
        "    sequence=i['Sequence']\n",
        "    indice = calculat_hydropathy(sequence)\n",
        "    print(f\"L'indice d'hydropathie pour la séquence est : {indice:.2f}\")\n",
        "    i['hydropathie']=indice\n",
        "print(protein_data_list)\n"
      ],
      "metadata": {
        "colab": {
          "base_uri": "https://localhost:8080/"
        },
        "id": "x5QrGUxxvGMX",
        "outputId": "64d5c72c-ea79-4bfa-ebad-41d444506031"
      },
      "execution_count": 4,
      "outputs": [
        {
          "output_type": "stream",
          "name": "stdout",
          "text": [
            "L'indice d'hydropathie pour la séquence est : 0.03\n",
            "L'indice d'hydropathie pour la séquence est : -0.44\n",
            "L'indice d'hydropathie pour la séquence est : 0.01\n",
            "L'indice d'hydropathie pour la séquence est : -0.07\n",
            "L'indice d'hydropathie pour la séquence est : 0.04\n",
            "L'indice d'hydropathie pour la séquence est : -0.54\n",
            "L'indice d'hydropathie pour la séquence est : 0.02\n",
            "L'indice d'hydropathie pour la séquence est : 0.04\n",
            "L'indice d'hydropathie pour la séquence est : 0.04\n",
            "L'indice d'hydropathie pour la séquence est : -0.66\n",
            "[{'Accession': 'P10719', 'Length': '529', 'Poids Moléculaire': '56354', 'Sequence': 'MLSLVGRVASASASGALRGLNPLAALPQAHLLLRTAPAGVHPARDYAAQSSAAPKAGTATGQIVAVIGAVVDVQFDEGLPPILNALEVQGRESRLVLEVAQHLGESTVRTIAMDGTEGLVRGQKVLDSGAPIKIPVGPETLGRIMNVIGEPIDERGPIKTKQFAPIHAEAPEFIEMSVEQEILVTGIKVVDLLAPYAKGGKIGLFGGAGVGKTVLIMELINNVAKAHGGYSVFAGVGERTREGNDLYHEMIESGVINLKDATSKVALVYGQMNEPPGARARVALTGLTVAEYFRDQEGQDVLLFIDNIFRFTQAGSEVSALLGRIPSAVGYQPTLATDMGTMQERITTTKKGSITSVQAIYVPADDLTDPAPATTFAHLDATTVLSRAIAELGIYPAVDPLDSTSRIMDPNIVGSEHYDVARGVQKILQDYKSLQDIIAILGMDELSEEDKLTVSRARKIQRFLSQPFQVAEVFTGHMGKLVPLKETIKGFQQILAGDYDHLPEQAFYMVGPIEEAVAKADKLAEEHGS', 'Localisation': 'MT', 'Length peptide': 46, 'hydropathie': 0.034026465028355234}, {'Accession': 'Q38786', 'Length': '574', 'Poids Moléculaire': '65041', 'Sequence': 'MALLCSALSNSTHPSFRSHIGANSENLWHLSADPAQKSKRRCNLTLSSRAARISSALESAKQVKPWQVPKRDWFPPEFMFGAASAAYQIEGAWNEGGKGPSSWDNFCHSHPDRIMDKSNADVAANSYYMYKEDVRMLKEIGMDSYRFSISWPRILPKGTLDGGINHEGIQYYNDLLDCLIENGIKPYITLFHWDTPQALADEYKDFLDRRIVKDYTDYATVCFEHFGDKVKNWFTFNEPHSFCGLGYGTGLHAPGARCSAGMTCVIPEEDALRNPYIVGHNLLLAHAETVDVYNKFYKGDDGQIGMVLDVMAYEPYGNNFLDQQAQERAIDFHIGWFLEPMVRGDYPFSMRSLVGDRLPFFTKSEQEKLVSSYDFVGINYYTSRFAKHIDISPEFIPKINTDDVYSNPEVNDSNGIPIGPDVGMYFIYSYPKGLKNILLRMKEKYGNPPIYITENGTADMDGWGNPPMTDPLDDPLRIEYLQQHMTAIKEAIDLGRRTLRGHFTWSLIDNFEWSLGYLSRFGIVYIDRNDGCKRIMKKSAKWLKEFNGATKKLNNKILGASSCCSGVTHGGGTA', 'Localisation': 'CH', 'Length peptide': 55, 'hydropathie': -0.4416376306620207}, {'Accession': 'P15289', 'Length': '507', 'Poids Moléculaire': '53588', 'Sequence': 'MGAPRSLLLALAAGLAVARPPNIVLIFADDLGYGDLGCYGHPSSTTPNLDQLAAGGLRFTDFYVPVSLCTPSRAALLTGRLPVRMGMYPGVLVPSSRGGLPLEEVTVAEVLAARGYLTGMAGKWHLGVGPEGAFLPPHQGFHRFLGIPYSHDQGPCQNLTCFPPATPCDGGCDQGLVPIPLLANLSVEAQPPWLPGLEARYMAFAHDLMADAQRQDRPFFLYYASHHTHYPQFSGQSFAERSGRGPFGDSLMELDAAVGTLMTAIGDLGLLEETLVIFTADNGPETMRMSRGGCSGLLRCGKGTTYEGGVREPALAFWPGHIAPGVTHELASSLDLLPTLAALAGAPLPNVTLDGFDLSPLLLGTGKSPRQSLFFYPSYPDEVRGVFAVRTGKYKAHFFTQGSAHSDTTADPACHASSSLTAHEPPLLYDLSKDPGENYNLLGGVAGATPEVLQALKQLQLLKAQLDAAVTFGPSQVARGEDPALQICCHPGCTPRPACCHCPDPHA', 'Localisation': 'SP', 'Length peptide': 18, 'hydropathie': 0.011637080867849967}, {'Accession': 'P25705', 'Length': '553', 'Poids Moléculaire': '59751', 'Sequence': 'MLSVRVAAAVVRALPRRAGLVSRNALGSSFIAARNFHASNTHLQKTGTAEMSSILEERILGADTSVDLEETGRVLSIGDGIARVHGLRNVQAEEMVEFSSGLKGMSLNLEPDNVGVVVFGNDKLIKEGDIVKRTGAIVDVPVGEELLGRVVDALGNAIDGKGPIGSKTRRRVGLKAPGIIPRISVREPMQTGIKAVDSLVPIGRGQRELIIGDRQTGKTSIAIDTIINQKRFNDGSDEKKKLYCIYVAIGQKRSTVAQLVKRLTDADAMKYTIVVSATASDAAPLQYLAPYSGCSMGEYFRDNGKHALIIYDDLSKQAVAYRQMSLLLRRPPGREAYPGDVFYLHSRLLERAAKMNDAFGGGSLTALPVIETQAGDVSAYIPTNVISITDGQIFLETELFYKGIRPAINVGLSVSRVGSAAQTRAMKQVAGTMKLELAQYREVAAFAQFGSDLDAATQQLLSRGVRLTELLKQGQYSPMAIEEQVAVIYAGVRGYLDKLEPSKITKFENAFLSHVVSQHQALLGTIRADGKISEQSDAKLKEIVTNFLAGFEA', 'Localisation': 'MT', 'Length peptide': 43, 'hydropathie': -0.06672694394213376}, {'Accession': 'P00829', 'Length': '528', 'Poids Moléculaire': '56284', 'Sequence': 'MLGLVGRVVAASASGALRGLSPSAPLPQAQLLLRAAPAALQPARDYAAQASPSPKAGATTGRIVAVIGAVVDVQFDEGLPPILNALEVQGRETRLVLEVAQHLGESTVRTIAMDGTEGLVRGQKVLDSGAPIRIPVGPETLGRIMNVIGEPIDERGPIKTKQFAAIHAEAPEFVEMSVEQEILVTGIKVVDLLAPYAKGGKIGLFGGAGVGKTVLIMELINNVAKAHGGYSVFAGVGERTREGNDLYHEMIESGVINLKDATSKVALVYGQMNEPPGARARVALTGLTVAEYFRDQEGQDVLLFIDNIFRFTQAGSEVSALLGRIPSAVGYQPTLATDMGTMQERITTTKKGSITSVQAIYVPADDLTDPAPATTFAHLDATTVLSRAIAELGIYPAVDPLDSTSRIMDPNIVGSEHYDVARGVQKILQDYKSLQDIIAILGMDELSEEDKLTVSRARKIQRFLSQPFQVAEVFTGHLGKLVPLKETIKGFQQILAGEYDHLPEQAFYMVGPIEEAVAKADKLAEEHS', 'Localisation': 'MT', 'Length peptide': 48, 'hydropathie': 0.04223484848484828}, {'Accession': 'P19633', 'Length': '406', 'Poids Moléculaire': '46449', 'Sequence': 'MRATDRMGARAVSKLRLALLFVLVLGTPRSGVQGEDGLDFPEYDGVDRVINVNAKNYKNVFKKYEVLALLYHEPPEDDKASQRQFEMEELILELAAQVLEDKGVGFGLVDSEKDAAVAKKLGLTEEDSVYVFKGDEVIEYDGEFSADTLVEFLLDVLEDPVELIEGERELQAFENIEDEIKLIGYFKSKDSEHYKAYEDAAEEFHPYIPFFATFDSKVAKKLTLKLNEIDFYEAFMEEPVTIPDKPNSEEEIVSFVEEHRRSTLRKLKPESMYETWEDDLDGIHIVAFAEEADPDGYEFLETLKAVAQDNTENPDLSIIWIDPDDFPLLVPYWEKTFDIDLSAPQIGVVNVTDADSIWMEMDDEEDLPSAEELEDWLEDVLEGEINTEDDDDDDDDDDDDDDDDDD', 'Localisation': 'SP', 'Length peptide': 34, 'hydropathie': -0.5411330049261082}, {'Accession': 'Q96252', 'Length': '203', 'Poids Moléculaire': '21548', 'Sequence': 'MFKQASRLLSRSVAAASSKSVTTRAFSTELPSTLDSTFVEAWKKVAPNMDPPQTPSAFMKPRPSTPSSIPTKLTVNFVLPYTSELTGKEVDMVIIPASTGQMGVLPGHVPTIAELKPGIMSVHEGTDVKKYFLSSGFAFLHANSVADIIAVEAVPLDHIDPSQVQKGLAEFQQKLASATTDLEKAEAQIGVEVHSAINAALSG', 'Localisation': 'MT', 'Length peptide': 26, 'hydropathie': 0.017241379310344772}, {'Accession': 'Q12165', 'Length': '160', 'Poids Moléculaire': '17020', 'Sequence': 'MLRSIIGKSASRSLNFVAKRSYAEAAAASSGLKLQFALPHETLYSGSEVTQVNLPAKSGRIGVLANHVPTVEQLLPGVVEVMEGSNSKKFFISGGFATVQPDSQLCVTAIEAFPLESFSQENIKNLLAEAKKNVSSSDAREAAEAAIQVEVLENLQSVLK', 'Localisation': 'MT', 'Length peptide': 22, 'hydropathie': 0.03624999999999997}, {'Accession': 'Q40089', 'Length': '200', 'Poids Moléculaire': '21318', 'Sequence': 'MFRHSSRLLARATTMGWRRPFSTDLPAETAADSTFVEAWKKLIPNVDPPKTPSAYMAPRPATPSSIPSKLTVNFVLPYSSELAGKEVDMVIIPATTGQMGVLPGHVATIAELKPGVMSVHEGNDVSKYFVSGGFAFIHANSFADIIAVEAVPLDRIDANLVQKGLAEFTQKLNTASTDVEKAEAQIGVDVHSALNAALTG', 'Localisation': 'MT', 'Length peptide': 21, 'hydropathie': 0.04099999999999997}, {'Accession': 'Q03352', 'Length': '105', 'Poids Moléculaire': '11281', 'Sequence': 'MHLFIGVSLRPLGHGIPAPYAVEDICTAKPRDIPVNPICIYRNPEKKPQERRGAGAGEGQDPGVHKPPASGSCPGPTRAFGRRSFLQAPGPTPRTMRRTSSCRPS', 'Localisation': 'SP', 'Length peptide': 17, 'hydropathie': -0.6600000000000001}]\n"
          ]
        }
      ]
    },
    {
      "cell_type": "code",
      "source": [
        "from collections import Counter\n",
        "\n",
        "# Fonction pour calculer la composition selon les groupes fonctionnels d'acides aminés\n",
        "def functional_group_composition(sequence):\n",
        "    hydrophobe = 'AILMFVW'\n",
        "    hydrophile = 'STYNQ'\n",
        "    basique = 'KRH'\n",
        "    acide = 'DE'\n",
        "\n",
        "    counts = Counter(sequence)\n",
        "    total_length = len(sequence)\n",
        "\n",
        "    composition = {\n",
        "        'Hydrophobe': sum(counts[aa] for aa in hydrophobe) / total_length,\n",
        "        'Hydrophile': sum(counts[aa] for aa in hydrophile) / total_length,\n",
        "        'Basique': sum(counts[aa] for aa in basique) / total_length,\n",
        "        'Acidie': sum(counts[aa] for aa in acide) / total_length\n",
        "    }\n",
        "\n",
        "    return composition\n",
        "\n",
        "# Exemple d'ajout de la composition des groupes fonctionnels à une protéine\n",
        "def enrich_protein_data_with_functional_groups(protein_data):\n",
        "    sequence = protein_data['Sequence']\n",
        "    composition = functional_group_composition(sequence)\n",
        "    protein_data.update(composition)\n",
        "    print(protein_data)\n",
        "    return protein_data\n",
        "\n",
        "# Appliquer cette fonction à chaque protéine dans la liste\n",
        "for protein_data in protein_data_list:\n",
        "    enrich_protein_data_with_functional_groups(protein_data)\n"
      ],
      "metadata": {
        "colab": {
          "base_uri": "https://localhost:8080/"
        },
        "id": "ErN4EOWEZVQp",
        "outputId": "92ccda7c-5c10-4859-e642-f17eb18109fd"
      },
      "execution_count": 5,
      "outputs": [
        {
          "output_type": "stream",
          "name": "stdout",
          "text": [
            "{'Accession': 'P10719', 'Length': '529', 'Poids Moléculaire': '56354', 'Sequence': 'MLSLVGRVASASASGALRGLNPLAALPQAHLLLRTAPAGVHPARDYAAQSSAAPKAGTATGQIVAVIGAVVDVQFDEGLPPILNALEVQGRESRLVLEVAQHLGESTVRTIAMDGTEGLVRGQKVLDSGAPIKIPVGPETLGRIMNVIGEPIDERGPIKTKQFAPIHAEAPEFIEMSVEQEILVTGIKVVDLLAPYAKGGKIGLFGGAGVGKTVLIMELINNVAKAHGGYSVFAGVGERTREGNDLYHEMIESGVINLKDATSKVALVYGQMNEPPGARARVALTGLTVAEYFRDQEGQDVLLFIDNIFRFTQAGSEVSALLGRIPSAVGYQPTLATDMGTMQERITTTKKGSITSVQAIYVPADDLTDPAPATTFAHLDATTVLSRAIAELGIYPAVDPLDSTSRIMDPNIVGSEHYDVARGVQKILQDYKSLQDIIAILGMDELSEEDKLTVSRARKIQRFLSQPFQVAEVFTGHMGKLVPLKETIKGFQQILAGDYDHLPEQAFYMVGPIEEAVAKADKLAEEHGS', 'Localisation': 'MT', 'Length peptide': 46, 'hydropathie': 0.034026465028355234, 'Hydrophobe': 0.41776937618147447, 'Hydrophile': 0.2003780718336484, 'Basique': 0.10964083175803403, 'Acidie': 0.12098298676748583}\n",
            "{'Accession': 'Q38786', 'Length': '574', 'Poids Moléculaire': '65041', 'Sequence': 'MALLCSALSNSTHPSFRSHIGANSENLWHLSADPAQKSKRRCNLTLSSRAARISSALESAKQVKPWQVPKRDWFPPEFMFGAASAAYQIEGAWNEGGKGPSSWDNFCHSHPDRIMDKSNADVAANSYYMYKEDVRMLKEIGMDSYRFSISWPRILPKGTLDGGINHEGIQYYNDLLDCLIENGIKPYITLFHWDTPQALADEYKDFLDRRIVKDYTDYATVCFEHFGDKVKNWFTFNEPHSFCGLGYGTGLHAPGARCSAGMTCVIPEEDALRNPYIVGHNLLLAHAETVDVYNKFYKGDDGQIGMVLDVMAYEPYGNNFLDQQAQERAIDFHIGWFLEPMVRGDYPFSMRSLVGDRLPFFTKSEQEKLVSSYDFVGINYYTSRFAKHIDISPEFIPKINTDDVYSNPEVNDSNGIPIGPDVGMYFIYSYPKGLKNILLRMKEKYGNPPIYITENGTADMDGWGNPPMTDPLDDPLRIEYLQQHMTAIKEAIDLGRRTLRGHFTWSLIDNFEWSLGYLSRFGIVYIDRNDGCKRIMKKSAKWLKEFNGATKKLNNKILGASSCCSGVTHGGGTA', 'Localisation': 'CH', 'Length peptide': 55, 'hydropathie': -0.4416376306620207, 'Hydrophobe': 0.343205574912892, 'Hydrophile': 0.2421602787456446, 'Basique': 0.13588850174216027, 'Acidie': 0.12195121951219512}\n",
            "{'Accession': 'P15289', 'Length': '507', 'Poids Moléculaire': '53588', 'Sequence': 'MGAPRSLLLALAAGLAVARPPNIVLIFADDLGYGDLGCYGHPSSTTPNLDQLAAGGLRFTDFYVPVSLCTPSRAALLTGRLPVRMGMYPGVLVPSSRGGLPLEEVTVAEVLAARGYLTGMAGKWHLGVGPEGAFLPPHQGFHRFLGIPYSHDQGPCQNLTCFPPATPCDGGCDQGLVPIPLLANLSVEAQPPWLPGLEARYMAFAHDLMADAQRQDRPFFLYYASHHTHYPQFSGQSFAERSGRGPFGDSLMELDAAVGTLMTAIGDLGLLEETLVIFTADNGPETMRMSRGGCSGLLRCGKGTTYEGGVREPALAFWPGHIAPGVTHELASSLDLLPTLAALAGAPLPNVTLDGFDLSPLLLGTGKSPRQSLFFYPSYPDEVRGVFAVRTGKYKAHFFTQGSAHSDTTADPACHASSSLTAHEPPLLYDLSKDPGENYNLLGGVAGATPEVLQALKQLQLLKAQLDAAVTFGPSQVARGEDPALQICCHPGCTPRPACCHCPDPHA', 'Localisation': 'SP', 'Length peptide': 18, 'hydropathie': 0.011637080867849967, 'Hydrophobe': 0.3767258382642998, 'Hydrophile': 0.19723865877712032, 'Basique': 0.09664694280078895, 'Acidie': 0.08875739644970414}\n",
            "{'Accession': 'P25705', 'Length': '553', 'Poids Moléculaire': '59751', 'Sequence': 'MLSVRVAAAVVRALPRRAGLVSRNALGSSFIAARNFHASNTHLQKTGTAEMSSILEERILGADTSVDLEETGRVLSIGDGIARVHGLRNVQAEEMVEFSSGLKGMSLNLEPDNVGVVVFGNDKLIKEGDIVKRTGAIVDVPVGEELLGRVVDALGNAIDGKGPIGSKTRRRVGLKAPGIIPRISVREPMQTGIKAVDSLVPIGRGQRELIIGDRQTGKTSIAIDTIINQKRFNDGSDEKKKLYCIYVAIGQKRSTVAQLVKRLTDADAMKYTIVVSATASDAAPLQYLAPYSGCSMGEYFRDNGKHALIIYDDLSKQAVAYRQMSLLLRRPPGREAYPGDVFYLHSRLLERAAKMNDAFGGGSLTALPVIETQAGDVSAYIPTNVISITDGQIFLETELFYKGIRPAINVGLSVSRVGSAAQTRAMKQVAGTMKLELAQYREVAAFAQFGSDLDAATQQLLSRGVRLTELLKQGQYSPMAIEEQVAVIYAGVRGYLDKLEPSKITKFENAFLSHVVSQHQALLGTIRADGKISEQSDAKLKEIVTNFLAGFEA', 'Localisation': 'MT', 'Length peptide': 43, 'hydropathie': -0.06672694394213376, 'Hydrophobe': 0.4050632911392405, 'Hydrophile': 0.2224231464737794, 'Basique': 0.13562386980108498, 'Acidie': 0.10849909584086799}\n",
            "{'Accession': 'P00829', 'Length': '528', 'Poids Moléculaire': '56284', 'Sequence': 'MLGLVGRVVAASASGALRGLSPSAPLPQAQLLLRAAPAALQPARDYAAQASPSPKAGATTGRIVAVIGAVVDVQFDEGLPPILNALEVQGRETRLVLEVAQHLGESTVRTIAMDGTEGLVRGQKVLDSGAPIRIPVGPETLGRIMNVIGEPIDERGPIKTKQFAAIHAEAPEFVEMSVEQEILVTGIKVVDLLAPYAKGGKIGLFGGAGVGKTVLIMELINNVAKAHGGYSVFAGVGERTREGNDLYHEMIESGVINLKDATSKVALVYGQMNEPPGARARVALTGLTVAEYFRDQEGQDVLLFIDNIFRFTQAGSEVSALLGRIPSAVGYQPTLATDMGTMQERITTTKKGSITSVQAIYVPADDLTDPAPATTFAHLDATTVLSRAIAELGIYPAVDPLDSTSRIMDPNIVGSEHYDVARGVQKILQDYKSLQDIIAILGMDELSEEDKLTVSRARKIQRFLSQPFQVAEVFTGHLGKLVPLKETIKGFQQILAGEYDHLPEQAFYMVGPIEEAVAKADKLAEEHS', 'Localisation': 'MT', 'Length peptide': 48, 'hydropathie': 0.04223484848484828, 'Hydrophobe': 0.42045454545454547, 'Hydrophile': 0.19886363636363635, 'Basique': 0.10795454545454546, 'Acidie': 0.12121212121212122}\n",
            "{'Accession': 'P19633', 'Length': '406', 'Poids Moléculaire': '46449', 'Sequence': 'MRATDRMGARAVSKLRLALLFVLVLGTPRSGVQGEDGLDFPEYDGVDRVINVNAKNYKNVFKKYEVLALLYHEPPEDDKASQRQFEMEELILELAAQVLEDKGVGFGLVDSEKDAAVAKKLGLTEEDSVYVFKGDEVIEYDGEFSADTLVEFLLDVLEDPVELIEGERELQAFENIEDEIKLIGYFKSKDSEHYKAYEDAAEEFHPYIPFFATFDSKVAKKLTLKLNEIDFYEAFMEEPVTIPDKPNSEEEIVSFVEEHRRSTLRKLKPESMYETWEDDLDGIHIVAFAEEADPDGYEFLETLKAVAQDNTENPDLSIIWIDPDDFPLLVPYWEKTFDIDLSAPQIGVVNVTDADSIWMEMDDEEDLPSAEELEDWLEDVLEGEINTEDDDDDDDDDDDDDDDDDD', 'Localisation': 'SP', 'Length peptide': 34, 'hydropathie': -0.5411330049261082, 'Hydrophobe': 0.37192118226600984, 'Hydrophile': 0.15517241379310345, 'Basique': 0.09852216748768473, 'Acidie': 0.2857142857142857}\n",
            "{'Accession': 'Q96252', 'Length': '203', 'Poids Moléculaire': '21548', 'Sequence': 'MFKQASRLLSRSVAAASSKSVTTRAFSTELPSTLDSTFVEAWKKVAPNMDPPQTPSAFMKPRPSTPSSIPTKLTVNFVLPYTSELTGKEVDMVIIPASTGQMGVLPGHVPTIAELKPGIMSVHEGTDVKKYFLSSGFAFLHANSVADIIAVEAVPLDHIDPSQVQKGLAEFQQKLASATTDLEKAEAQIGVEVHSAINAALSG', 'Localisation': 'MT', 'Length peptide': 26, 'hydropathie': 0.017241379310344772, 'Hydrophobe': 0.4088669950738916, 'Hydrophile': 0.26108374384236455, 'Basique': 0.10837438423645321, 'Acidie': 0.09359605911330049}\n",
            "{'Accession': 'Q12165', 'Length': '160', 'Poids Moléculaire': '17020', 'Sequence': 'MLRSIIGKSASRSLNFVAKRSYAEAAAASSGLKLQFALPHETLYSGSEVTQVNLPAKSGRIGVLANHVPTVEQLLPGVVEVMEGSNSKKFFISGGFATVQPDSQLCVTAIEAFPLESFSQENIKNLLAEAKKNVSSSDAREAAEAAIQVEVLENLQSVLK', 'Localisation': 'MT', 'Length peptide': 22, 'hydropathie': 0.03624999999999997, 'Hydrophobe': 0.425, 'Hydrophile': 0.26875, 'Basique': 0.10625, 'Acidie': 0.1}\n",
            "{'Accession': 'Q40089', 'Length': '200', 'Poids Moléculaire': '21318', 'Sequence': 'MFRHSSRLLARATTMGWRRPFSTDLPAETAADSTFVEAWKKLIPNVDPPKTPSAYMAPRPATPSSIPSKLTVNFVLPYSSELAGKEVDMVIIPATTGQMGVLPGHVATIAELKPGVMSVHEGNDVSKYFVSGGFAFIHANSFADIIAVEAVPLDRIDANLVQKGLAEFTQKLNTASTDVEKAEAQIGVDVHSALNAALTG', 'Localisation': 'MT', 'Length peptide': 21, 'hydropathie': 0.04099999999999997, 'Hydrophobe': 0.43, 'Hydrophile': 0.225, 'Basique': 0.11, 'Acidie': 0.1}\n",
            "{'Accession': 'Q03352', 'Length': '105', 'Poids Moléculaire': '11281', 'Sequence': 'MHLFIGVSLRPLGHGIPAPYAVEDICTAKPRDIPVNPICIYRNPEKKPQERRGAGAGEGQDPGVHKPPASGSCPGPTRAFGRRSFLQAPGPTPRTMRRTSSCRPS', 'Localisation': 'SP', 'Length peptide': 17, 'hydropathie': -0.6600000000000001, 'Hydrophobe': 0.2571428571428571, 'Hydrophile': 0.18095238095238095, 'Basique': 0.18095238095238095, 'Acidie': 0.06666666666666667}\n"
          ]
        }
      ]
    },
    {
      "cell_type": "code",
      "source": [
        "#Après avoir recup les features, on sort les seq\n",
        "for protein_data in protein_data_list:\n",
        "    if 'Sequence' in protein_data:\n",
        "        del protein_data['Sequence']\n",
        "print(protein_data_list)"
      ],
      "metadata": {
        "colab": {
          "base_uri": "https://localhost:8080/"
        },
        "id": "mlfPsyZJa1iu",
        "outputId": "61690df2-44b9-4c27-8dff-96c4dda4f6d2"
      },
      "execution_count": 6,
      "outputs": [
        {
          "output_type": "stream",
          "name": "stdout",
          "text": [
            "[{'Accession': 'P10719', 'Length': '529', 'Poids Moléculaire': '56354', 'Localisation': 'MT', 'Length peptide': 46, 'hydropathie': 0.034026465028355234, 'Hydrophobe': 0.41776937618147447, 'Hydrophile': 0.2003780718336484, 'Basique': 0.10964083175803403, 'Acidie': 0.12098298676748583}, {'Accession': 'Q38786', 'Length': '574', 'Poids Moléculaire': '65041', 'Localisation': 'CH', 'Length peptide': 55, 'hydropathie': -0.4416376306620207, 'Hydrophobe': 0.343205574912892, 'Hydrophile': 0.2421602787456446, 'Basique': 0.13588850174216027, 'Acidie': 0.12195121951219512}, {'Accession': 'P15289', 'Length': '507', 'Poids Moléculaire': '53588', 'Localisation': 'SP', 'Length peptide': 18, 'hydropathie': 0.011637080867849967, 'Hydrophobe': 0.3767258382642998, 'Hydrophile': 0.19723865877712032, 'Basique': 0.09664694280078895, 'Acidie': 0.08875739644970414}, {'Accession': 'P25705', 'Length': '553', 'Poids Moléculaire': '59751', 'Localisation': 'MT', 'Length peptide': 43, 'hydropathie': -0.06672694394213376, 'Hydrophobe': 0.4050632911392405, 'Hydrophile': 0.2224231464737794, 'Basique': 0.13562386980108498, 'Acidie': 0.10849909584086799}, {'Accession': 'P00829', 'Length': '528', 'Poids Moléculaire': '56284', 'Localisation': 'MT', 'Length peptide': 48, 'hydropathie': 0.04223484848484828, 'Hydrophobe': 0.42045454545454547, 'Hydrophile': 0.19886363636363635, 'Basique': 0.10795454545454546, 'Acidie': 0.12121212121212122}, {'Accession': 'P19633', 'Length': '406', 'Poids Moléculaire': '46449', 'Localisation': 'SP', 'Length peptide': 34, 'hydropathie': -0.5411330049261082, 'Hydrophobe': 0.37192118226600984, 'Hydrophile': 0.15517241379310345, 'Basique': 0.09852216748768473, 'Acidie': 0.2857142857142857}, {'Accession': 'Q96252', 'Length': '203', 'Poids Moléculaire': '21548', 'Localisation': 'MT', 'Length peptide': 26, 'hydropathie': 0.017241379310344772, 'Hydrophobe': 0.4088669950738916, 'Hydrophile': 0.26108374384236455, 'Basique': 0.10837438423645321, 'Acidie': 0.09359605911330049}, {'Accession': 'Q12165', 'Length': '160', 'Poids Moléculaire': '17020', 'Localisation': 'MT', 'Length peptide': 22, 'hydropathie': 0.03624999999999997, 'Hydrophobe': 0.425, 'Hydrophile': 0.26875, 'Basique': 0.10625, 'Acidie': 0.1}, {'Accession': 'Q40089', 'Length': '200', 'Poids Moléculaire': '21318', 'Localisation': 'MT', 'Length peptide': 21, 'hydropathie': 0.04099999999999997, 'Hydrophobe': 0.43, 'Hydrophile': 0.225, 'Basique': 0.11, 'Acidie': 0.1}, {'Accession': 'Q03352', 'Length': '105', 'Poids Moléculaire': '11281', 'Localisation': 'SP', 'Length peptide': 17, 'hydropathie': -0.6600000000000001, 'Hydrophobe': 0.2571428571428571, 'Hydrophile': 0.18095238095238095, 'Basique': 0.18095238095238095, 'Acidie': 0.06666666666666667}]\n"
          ]
        }
      ]
    },
    {
      "cell_type": "code",
      "source": [
        "# Dictionnaire pour convertir le texte en labels numériques\n",
        "label_mapping = {\n",
        "    'SP': 0,  # Signal peptide\n",
        "    'MT': 1,  # Mitochondrial transit peptide\n",
        "    'CH': 2,  # Chloroplast transit peptide\n",
        "    'TH': 3,  # Thylakoidal lumen composite transit peptide\n",
        "    'Other': 4  # No targeting peptide\n",
        "}\n",
        "\n",
        "# Exemple de transformation des localisations en labels\n",
        "for protein_data in protein_data_list:\n",
        "    if 'Localisation' in protein_data:\n",
        "        protein_data['Localisation'] = label_mapping[protein_data['Localisation']]\n",
        "print(protein_data_list)\n"
      ],
      "metadata": {
        "colab": {
          "base_uri": "https://localhost:8080/"
        },
        "id": "1lKZC5-4gx5o",
        "outputId": "56a07419-1af5-40db-d463-6e8a0432a1ad"
      },
      "execution_count": 7,
      "outputs": [
        {
          "output_type": "stream",
          "name": "stdout",
          "text": [
            "[{'Accession': 'P10719', 'Length': '529', 'Poids Moléculaire': '56354', 'Localisation': 1, 'Length peptide': 46, 'hydropathie': 0.034026465028355234, 'Hydrophobe': 0.41776937618147447, 'Hydrophile': 0.2003780718336484, 'Basique': 0.10964083175803403, 'Acidie': 0.12098298676748583}, {'Accession': 'Q38786', 'Length': '574', 'Poids Moléculaire': '65041', 'Localisation': 2, 'Length peptide': 55, 'hydropathie': -0.4416376306620207, 'Hydrophobe': 0.343205574912892, 'Hydrophile': 0.2421602787456446, 'Basique': 0.13588850174216027, 'Acidie': 0.12195121951219512}, {'Accession': 'P15289', 'Length': '507', 'Poids Moléculaire': '53588', 'Localisation': 0, 'Length peptide': 18, 'hydropathie': 0.011637080867849967, 'Hydrophobe': 0.3767258382642998, 'Hydrophile': 0.19723865877712032, 'Basique': 0.09664694280078895, 'Acidie': 0.08875739644970414}, {'Accession': 'P25705', 'Length': '553', 'Poids Moléculaire': '59751', 'Localisation': 1, 'Length peptide': 43, 'hydropathie': -0.06672694394213376, 'Hydrophobe': 0.4050632911392405, 'Hydrophile': 0.2224231464737794, 'Basique': 0.13562386980108498, 'Acidie': 0.10849909584086799}, {'Accession': 'P00829', 'Length': '528', 'Poids Moléculaire': '56284', 'Localisation': 1, 'Length peptide': 48, 'hydropathie': 0.04223484848484828, 'Hydrophobe': 0.42045454545454547, 'Hydrophile': 0.19886363636363635, 'Basique': 0.10795454545454546, 'Acidie': 0.12121212121212122}, {'Accession': 'P19633', 'Length': '406', 'Poids Moléculaire': '46449', 'Localisation': 0, 'Length peptide': 34, 'hydropathie': -0.5411330049261082, 'Hydrophobe': 0.37192118226600984, 'Hydrophile': 0.15517241379310345, 'Basique': 0.09852216748768473, 'Acidie': 0.2857142857142857}, {'Accession': 'Q96252', 'Length': '203', 'Poids Moléculaire': '21548', 'Localisation': 1, 'Length peptide': 26, 'hydropathie': 0.017241379310344772, 'Hydrophobe': 0.4088669950738916, 'Hydrophile': 0.26108374384236455, 'Basique': 0.10837438423645321, 'Acidie': 0.09359605911330049}, {'Accession': 'Q12165', 'Length': '160', 'Poids Moléculaire': '17020', 'Localisation': 1, 'Length peptide': 22, 'hydropathie': 0.03624999999999997, 'Hydrophobe': 0.425, 'Hydrophile': 0.26875, 'Basique': 0.10625, 'Acidie': 0.1}, {'Accession': 'Q40089', 'Length': '200', 'Poids Moléculaire': '21318', 'Localisation': 1, 'Length peptide': 21, 'hydropathie': 0.04099999999999997, 'Hydrophobe': 0.43, 'Hydrophile': 0.225, 'Basique': 0.11, 'Acidie': 0.1}, {'Accession': 'Q03352', 'Length': '105', 'Poids Moléculaire': '11281', 'Localisation': 0, 'Length peptide': 17, 'hydropathie': -0.6600000000000001, 'Hydrophobe': 0.2571428571428571, 'Hydrophile': 0.18095238095238095, 'Basique': 0.18095238095238095, 'Acidie': 0.06666666666666667}]\n"
          ]
        }
      ]
    },
    {
      "cell_type": "code",
      "source": [
        "# Convertir en DataFrame\n",
        "df = pd.DataFrame(protein_data_list)\n",
        "\n",
        "# Afficher le DataFrame\n",
        "print(df)"
      ],
      "metadata": {
        "colab": {
          "base_uri": "https://localhost:8080/"
        },
        "id": "cKKXYvyPLjkP",
        "outputId": "550ffd7e-22fc-49d0-a728-05109decd097"
      },
      "execution_count": 8,
      "outputs": [
        {
          "output_type": "stream",
          "name": "stdout",
          "text": [
            "  Accession Length Poids Moléculaire  Localisation  Length peptide  \\\n",
            "0    P10719    529             56354             1              46   \n",
            "1    Q38786    574             65041             2              55   \n",
            "2    P15289    507             53588             0              18   \n",
            "3    P25705    553             59751             1              43   \n",
            "4    P00829    528             56284             1              48   \n",
            "5    P19633    406             46449             0              34   \n",
            "6    Q96252    203             21548             1              26   \n",
            "7    Q12165    160             17020             1              22   \n",
            "8    Q40089    200             21318             1              21   \n",
            "9    Q03352    105             11281             0              17   \n",
            "\n",
            "   hydropathie  Hydrophobe  Hydrophile   Basique    Acidie  \n",
            "0     0.034026    0.417769    0.200378  0.109641  0.120983  \n",
            "1    -0.441638    0.343206    0.242160  0.135889  0.121951  \n",
            "2     0.011637    0.376726    0.197239  0.096647  0.088757  \n",
            "3    -0.066727    0.405063    0.222423  0.135624  0.108499  \n",
            "4     0.042235    0.420455    0.198864  0.107955  0.121212  \n",
            "5    -0.541133    0.371921    0.155172  0.098522  0.285714  \n",
            "6     0.017241    0.408867    0.261084  0.108374  0.093596  \n",
            "7     0.036250    0.425000    0.268750  0.106250  0.100000  \n",
            "8     0.041000    0.430000    0.225000  0.110000  0.100000  \n",
            "9    -0.660000    0.257143    0.180952  0.180952  0.066667  \n"
          ]
        }
      ]
    },
    {
      "cell_type": "markdown",
      "source": [
        "# **PARTIE ML**"
      ],
      "metadata": {
        "id": "5ExDiL4jhjOT"
      }
    },
    {
      "cell_type": "code",
      "source": [
        "X = data[['Length']]  # Utiliser la longueur et autre comme feature\n",
        "y = data['Localisation']  # Utiliser la localisation comme label\n",
        "\n",
        "# Encoder les labels (localisation) si nécessaire\n",
        "from sklearn.preprocessing import LabelEncoder\n",
        "\n",
        "label_encoder = LabelEncoder()\n",
        "y_encoded = label_encoder.fit_transform(y)\n",
        "\n",
        "# Maintenant, X et y_encoded peuvent être utilisés pour entraîner le modèle SVM\n"
      ],
      "metadata": {
        "id": "pfaK3Ud476Di"
      },
      "execution_count": null,
      "outputs": []
    },
    {
      "cell_type": "code",
      "source": [
        "from sklearn.model_selection import train_test_split\n",
        "\n",
        "# Séparer les données en train/test (75% entraînement, 25% test)\n",
        "X_train, X_test, y_train, y_test = train_test_split(X, y, test_size=0.25, random_state=42)\n"
      ],
      "metadata": {
        "id": "SXKi3ZC9AJXN"
      },
      "execution_count": null,
      "outputs": []
    },
    {
      "cell_type": "code",
      "source": [
        "from sklearn.preprocessing import StandardScaler\n",
        "\n",
        "# Créer un scaler et ajuster les données d'entraînement\n",
        "scaler = StandardScaler()\n",
        "X_train_scaled = scaler.fit_transform(X_train)\n",
        "X_test_scaled = scaler.transform(X_test)  # Ne pas ajuster à nouveau sur le test\n"
      ],
      "metadata": {
        "id": "cnf8o0_wAUNt"
      },
      "execution_count": null,
      "outputs": []
    },
    {
      "cell_type": "code",
      "source": [
        "from sklearn.svm import SVC\n",
        "\n",
        "# Créer un modèle SVM\n",
        "model = SVC(kernel='linear')  # Utiliser le noyau linéaire (tu peux essayer d'autres noyaux comme 'rbf' ou 'poly')\n",
        "model.fit(X_train_scaled, y_train)  # Entraîner le modèle\n"
      ],
      "metadata": {
        "id": "dt3jF7UMAZnc"
      },
      "execution_count": null,
      "outputs": []
    },
    {
      "cell_type": "code",
      "source": [
        "from sklearn.metrics import accuracy_score, classification_report, confusion_matrix\n",
        "\n",
        "# Prédictions sur l'ensemble de test\n",
        "y_pred = model.predict(X_test_scaled)\n",
        "\n",
        "# Calculer l'accuracy\n",
        "accuracy = accuracy_score(y_test, y_pred)\n",
        "print(f'Accuracy: {accuracy:.2f}')\n",
        "\n",
        "# Afficher le rapport de classification\n",
        "print(classification_report(y_test, y_pred))\n",
        "\n",
        "# Afficher la matrice de confusion\n",
        "conf_matrix = confusion_matrix(y_test, y_pred)\n",
        "print('Confusion Matrix:')\n",
        "print(conf_matrix)\n"
      ],
      "metadata": {
        "id": "OCegaJwIAgsr"
      },
      "execution_count": null,
      "outputs": []
    }
  ]
}